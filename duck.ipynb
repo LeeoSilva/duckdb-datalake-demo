{
 "cells": [
  {
   "cell_type": "code",
   "execution_count": 94,
   "metadata": {},
   "outputs": [],
   "source": [
    "import duckdb\n",
    "\n",
    "duckdb.connect(\"duckdb1.db\")\n",
    "\n",
    "create_products = open(\"sql/create_products.sql\").read()    \n",
    "create_stores = open(\"sql/create_stores.sql\").read()\n",
    "create_stock_control = open(\"sql/create_stock_control.sql\").read()\n",
    "create_customers = open(\"sql/create_customers.sql\").read()\n",
    "\n",
    "create_price_search_fact = open(\"sql/create_price_search_fact.sql\").read()\n",
    "\n",
    "create_sentiment_analysis_fact = open(\"sql/create_sentiment_analysis_fact.sql\").read()\n",
    "create_sentiment_status = open(\"sql/create_sentiment_status.sql\").read()\n",
    "create_source = open(\"sql/create_source.sql\").read()\n",
    "\n",
    "extract_sentiment_analysis_raw_data = open(\"sql/extract_sentiment_analysis.sql\").read()\n",
    "extract_price_search_raw_data = open(\"sql/extract_price_search.sql\").read()\n",
    "\n",
    "transformation_price_search = open(\"sql/transformation_price_search.sql\").read()\n",
    "transformation_sentiment_analysis = open(\"sql/transformation_sentiment_analysis.sql\").read()\n",
    "\n",
    "# preparation\n",
    "duckdb.sql(create_products)\n",
    "duckdb.sql(create_customers)\n",
    "duckdb.sql(create_stores)\n",
    "duckdb.sql(create_stock_control)\n",
    "duckdb.sql(create_price_search_fact)\n",
    "duckdb.sql(create_sentiment_analysis_fact)\n",
    "duckdb.sql(create_sentiment_status)\n",
    "duckdb.sql(create_source)\n",
    "\n",
    "# extract\n",
    "duckdb.execute(extract_price_search_raw_data, [\"sftp/price_search/*.csv\"])\n",
    "duckdb.execute(extract_sentiment_analysis_raw_data, [\"sftp/sentiment_analysis/*.json\"])\n",
    "\n",
    "# tranform\n",
    "duckdb.sql(transformation_price_search)\n",
    "duckdb.sql(transformation_sentiment_analysis)\n",
    "\n",
    "# load \n"
   ]
  },
  {
   "cell_type": "code",
   "execution_count": 80,
   "metadata": {},
   "outputs": [
    {
     "data": {
      "text/plain": [
       "┌───────┬────────────────┬───────────────┬───────────────┬───────────────┬─────────────────────┐\n",
       "│  id   │   product_id   │ average_price │ minimum_price │ maximum_price │     survey_date     │\n",
       "│ int32 │    varchar     │ decimal(10,2) │ decimal(10,2) │ decimal(10,2) │      timestamp      │\n",
       "├───────┼────────────────┼───────────────┼───────────────┼───────────────┼─────────────────────┤\n",
       "│     1 │ prod-987654321 │        150.00 │        140.00 │        160.00 │ 2024-04-25 00:00:00 │\n",
       "│     2 │ prod-123456789 │        120.00 │        100.00 │        140.00 │ 2024-04-26 00:00:00 │\n",
       "│     3 │ prod-123456732 │        150.00 │        140.00 │        160.00 │ 2024-04-25 00:00:00 │\n",
       "│     4 │ prod-123087898 │        120.00 │        100.00 │        140.00 │ 2024-04-26 00:00:00 │\n",
       "│     5 │ prod-872645890 │        150.00 │        140.00 │        160.00 │ 2024-04-25 00:00:00 │\n",
       "│     6 │ prod-298304577 │        120.00 │        100.00 │        140.00 │ 2024-04-26 00:00:00 │\n",
       "└───────┴────────────────┴───────────────┴───────────────┴───────────────┴─────────────────────┘"
      ]
     },
     "execution_count": 80,
     "metadata": {},
     "output_type": "execute_result"
    }
   ],
   "source": [
    "duckdb.sql(\"SELECT * FROM price_search_fact LIMIT 10\")"
   ]
  }
 ],
 "metadata": {
  "kernelspec": {
   "display_name": "datalake-gcp-demo-4zbSWHOH-py3.12",
   "language": "python",
   "name": "python3"
  },
  "language_info": {
   "codemirror_mode": {
    "name": "ipython",
    "version": 3
   },
   "file_extension": ".py",
   "mimetype": "text/x-python",
   "name": "python",
   "nbconvert_exporter": "python",
   "pygments_lexer": "ipython3",
   "version": "3.12.4"
  }
 },
 "nbformat": 4,
 "nbformat_minor": 2
}
